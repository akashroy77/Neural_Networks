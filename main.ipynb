{
 "cells": [
  {
   "cell_type": "code",
   "execution_count": 1,
   "metadata": {},
   "outputs": [
    {
     "name": "stderr",
     "output_type": "stream",
     "text": [
      "Using TensorFlow backend.\n"
     ]
    }
   ],
   "source": [
    "import os\n",
    "import gzip\n",
    "import numpy as np\n",
    "import scipy as sc\n",
    "import matplotlib.pyplot as plt\n",
    "from sklearn.metrics import accuracy_score\n",
    "from sklearn.metrics import confusion_matrix\n",
    "import keras\n",
    "from keras.models import Sequential\n",
    "from keras.layers import Dense, Dropout, Activation\n",
    "from keras.optimizers import SGD\n",
    "from keras.utils import to_categorical\n",
    "from keras.layers import Conv2D, MaxPool2D, Flatten, Activation, MaxPooling2D"
   ]
  },
  {
   "cell_type": "code",
   "execution_count": 2,
   "metadata": {},
   "outputs": [],
   "source": [
    "def load_mnist(path, kind='train'):\n",
    "    \"\"\"Load MNIST data from `path`\"\"\"\n",
    "    labels_path = os.path.join(path,\n",
    "                               '%s-labels-idx1-ubyte.gz'\n",
    "                               % kind)\n",
    "    images_path = os.path.join(path,\n",
    "                               '%s-images-idx3-ubyte.gz'\n",
    "                               % kind)\n",
    "\n",
    "    with gzip.open(labels_path, 'rb') as lbpath:\n",
    "        labels = np.frombuffer(lbpath.read(), dtype=np.uint8,\n",
    "                               offset=8)\n",
    "\n",
    "    with gzip.open(images_path, 'rb') as imgpath:\n",
    "        images = np.frombuffer(imgpath.read(), dtype=np.uint8,\n",
    "                               offset=16).reshape(len(labels), 784)\n",
    "\n",
    "    return images, labels"
   ]
  },
  {
   "cell_type": "code",
   "execution_count": 3,
   "metadata": {},
   "outputs": [],
   "source": [
    "#Reading the data\n",
    "images_train, labels_train = load_mnist('C:\\\\UB\\\\ML 574\\\\Python\\\\DataSets\\\\data\\\\fashion', kind='train')\n",
    "images_test, labels_test = load_mnist('C:\\\\UB\\\\ML 574\\\\Python\\\\DataSets\\\\data\\\\fashion', kind='t10k')\n",
    "images_train=np.asmatrix(images_train)\n",
    "images_test=np.asmatrix(images_test)\n",
    "labels_train=np.reshape(labels_train,(60000,1))"
   ]
  },
  {
   "cell_type": "code",
   "execution_count": 4,
   "metadata": {},
   "outputs": [],
   "source": [
    "#Normalizing the Data\n",
    "images_train=images_train/255;\n",
    "images_test=images_test/255;"
   ]
  },
  {
   "cell_type": "code",
   "execution_count": 5,
   "metadata": {},
   "outputs": [],
   "source": [
    "#Applying K-Encoding Scheme for Labels\n",
    "y_encoded=np.zeros((labels_train.shape[0],10))\n",
    "for i in range(labels_train.shape[0]):\n",
    "    y_encoded[i,labels_train[i]]=1\n",
    "y_test_encoded=np.zeros((labels_test.shape[0],10))\n",
    "for i in range(labels_test.shape[0]):\n",
    "    y_test_encoded[i,labels_test[i]]=1"
   ]
  },
  {
   "cell_type": "code",
   "execution_count": 6,
   "metadata": {},
   "outputs": [],
   "source": [
    "#Dividing Data in batch\n",
    "images_batch=np.split(images_train,120);\n",
    "labels_train_batch=np.split(labels_train,120);\n",
    "labels_batch=np.split(y_encoded,120)"
   ]
  },
  {
   "cell_type": "code",
   "execution_count": 7,
   "metadata": {},
   "outputs": [],
   "source": [
    "#Sigmoid Function\n",
    "def sigmoidFunction(z):\n",
    "    return 1/(1+np.exp(-z))"
   ]
  },
  {
   "cell_type": "code",
   "execution_count": 8,
   "metadata": {},
   "outputs": [],
   "source": [
    "#Softmax Function\n",
    "def softmaxFunction(z):\n",
    "    temp=np.exp(z)\n",
    "    total_val=np.sum(temp,axis=1)\n",
    "    a=temp/total_val\n",
    "    return a"
   ]
  },
  {
   "cell_type": "code",
   "execution_count": 9,
   "metadata": {},
   "outputs": [],
   "source": [
    "#Hypothesis\n",
    "def hypothesis(x,w,bias):\n",
    "    wx=np.dot(x,w)+bias\n",
    "    return wx;"
   ]
  },
  {
   "cell_type": "code",
   "execution_count": 10,
   "metadata": {},
   "outputs": [],
   "source": [
    "#Categorical Cross Entropy as Loss Fucntion\n",
    "def lossFunction(a2,y):\n",
    "    m=y.shape[0]\n",
    "    error=np.multiply(y,sc.log(a2))\n",
    "    loss=(-1/m)*error\n",
    "    return np.sum(loss)"
   ]
  },
  {
   "cell_type": "code",
   "execution_count": 11,
   "metadata": {},
   "outputs": [],
   "source": [
    "#Back Propagation for the Second Layer\n",
    "def gradDescentFirst(y_pred,y,w1,b1,w2,a1,learning_rate,x):\n",
    "    m=x.shape[0]\n",
    "    temp1=np.dot((y_pred-y),w2.T)\n",
    "    temp2=np.multiply(a1,(1-a1))\n",
    "    temp3=np.multiply(temp1,temp2)\n",
    "    dw1=(1/m)*np.dot(x.T,temp3)\n",
    "    db1=(1/m)*np.sum(np.multiply(temp1,temp2),axis=0)\n",
    "    w1=w1-learning_rate*dw1\n",
    "    b1=b1-learning_rate*db1\n",
    "    return w1,b1"
   ]
  },
  {
   "cell_type": "code",
   "execution_count": 12,
   "metadata": {},
   "outputs": [],
   "source": [
    "#Back Propagation for the First Layer\n",
    "def gradDescentSecond(y_pred,y,w2,b2,a1,learning_rate):\n",
    "    diff=y_pred-y\n",
    "    m=a1.shape[0]\n",
    "    dw2=(1/m)*np.dot(a1.T,diff)\n",
    "    db2=(1/m)*np.sum(np.dot(a1.T,diff),axis=0)\n",
    "    w2=w2-learning_rate*dw2\n",
    "    b2=b2-learning_rate*db2\n",
    "    return w2,b2"
   ]
  },
  {
   "cell_type": "code",
   "execution_count": 13,
   "metadata": {},
   "outputs": [],
   "source": [
    "#Calculating Max Probabilty for Output Matrix\n",
    "def max_probability(a2):\n",
    "    result=np.argmax(a2,axis=1)\n",
    "    return result"
   ]
  },
  {
   "cell_type": "code",
   "execution_count": 14,
   "metadata": {},
   "outputs": [],
   "source": [
    "#Calculating Accuracy\n",
    "def cal_accuracy(y,y_pred):\n",
    "    count=0\n",
    "    for i in range(y.shape[0]):\n",
    "        if(y_pred[i]==y[i]):\n",
    "            count=count+1\n",
    "    accuracy=(count/y.shape[0])*100\n",
    "    return accuracy"
   ]
  },
  {
   "cell_type": "code",
   "execution_count": 15,
   "metadata": {},
   "outputs": [],
   "source": [
    "#Initialization of Weights , Bias and Hyper parameters\n",
    "layer1=[80]\n",
    "cost_graph=[]\n",
    "acc_graph=[]\n",
    "outputLayer=10\n",
    "epoch=100\n",
    "learning_Rate=0.2\n",
    "\n",
    "w1=np.random.randn(images_batch[0].shape[1],layer1[0])\n",
    "b1=np.random.randn(1,layer1[0])\n",
    "w2=np.random.randn(layer1[0],outputLayer)\n",
    "b2=np.random.randn(1,outputLayer)"
   ]
  },
  {
   "cell_type": "code",
   "execution_count": 16,
   "metadata": {
    "scrolled": false
   },
   "outputs": [
    {
     "data": {
      "text/plain": [
       "[<matplotlib.lines.Line2D at 0x2cda7d31f28>]"
      ]
     },
     "execution_count": 16,
     "metadata": {},
     "output_type": "execute_result"
    },
    {
     "data": {
      "image/png": "[encoded data removed]",
      "text/plain": [
       "<Figure size 432x288 with 1 Axes>"
      ]
     },
     "metadata": {},
     "output_type": "display_data"
    }
   ],
   "source": [
    "#Training our Model\n",
    "for i in range(epoch):\n",
    "    for j in range(len(images_batch)):\n",
    "         z1=hypothesis(images_batch[j],w1,b1)\n",
    "         a1=sigmoidFunction(z1)\n",
    "         z2=hypothesis(a1,w2,b2) \n",
    "         a2=softmaxFunction(z2)\n",
    "         cost=lossFunction(a2,labels_batch[j])\n",
    "         result=max_probability(a2)\n",
    "         cost_graph.append((cost))\n",
    "         accuracy=cal_accuracy(labels_train_batch[j],result)\n",
    "         acc_graph.append(accuracy)\n",
    "         w1,b1=gradDescentFirst(a2,labels_batch[j],w1,b1,w2,a1,learning_Rate,images_batch[j])\n",
    "         w2,b2=gradDescentSecond(a2,labels_batch[j],w2,b2,a1,learning_Rate)\n",
    "plt.plot(cost_graph)"
   ]
  },
  {
   "cell_type": "code",
   "execution_count": 17,
   "metadata": {},
   "outputs": [
    {
     "data": {
      "text/plain": [
       "[<matplotlib.lines.Line2D at 0x2cdc2948eb8>]"
      ]
     },
     "execution_count": 17,
     "metadata": {},
     "output_type": "execute_result"
    },
    {
     "data": {
      "image/png": "[encoded data removed]",
      "text/plain": [
       "<Figure size 432x288 with 1 Axes>"
      ]
     },
     "metadata": {},
     "output_type": "display_data"
    }
   ],
   "source": [
    "plt.plot(acc_graph)"
   ]
  },
  {
   "cell_type": "code",
   "execution_count": 18,
   "metadata": {},
   "outputs": [
    {
     "name": "stdout",
     "output_type": "stream",
     "text": [
      "8287\n",
      "[[819   7  16  52   7   0  83   0  16   0]\n",
      " [  8 942   9  27   7   1   3   0   2   1]\n",
      " [ 21   3 704  12 181   0  68   0  11   0]\n",
      " [ 38  19  14 860  43   0  20   0   6   0]\n",
      " [  1   2  96  41 806   2  44   0   8   0]\n",
      " [  2   1   0   0   0 904   0  54   6  33]\n",
      " [195   2 134  41 146   1 454   0  27   0]\n",
      " [  0   0   0   0   0  41   0 901   2  56]\n",
      " [  3   1  13   5   9   6  13   4 943   3]\n",
      " [  1   0   0   0   0  16   0  28   1 954]]\n"
     ]
    }
   ],
   "source": [
    "#Calculation of Confusion Matrix and Accuracy on Test Data\n",
    "test_z1=hypothesis(images_test,w1,b1)\n",
    "test_a1=sigmoidFunction(test_z1)\n",
    "test_z2=hypothesis(test_a1,w2,b2)\n",
    "test_a2=softmaxFunction(test_z2)\n",
    "result=np.ones((10000,1))\n",
    "\n",
    "result=np.argmax(test_a2,axis=1)\n",
    "\n",
    "labels_test=np.asmatrix(labels_test)\n",
    "labels_test=np.reshape(labels_test,(10000,1))\n",
    "count=0\n",
    "for i in range(result.shape[0]):\n",
    "    if(labels_test[i]==result[i]):\n",
    "        count=count+1\n",
    "print(count)"
   ]
  },
  {
   "cell_type": "code",
   "execution_count": null,
   "metadata": {},
   "outputs": [],
   "source": [
    "#Creating Confusion Matrix\n",
    "cm=confusion_matrix(labels_test,result)\n",
    "print(cm)"
   ]
  },
  {
   "cell_type": "code",
   "execution_count": 26,
   "metadata": {},
   "outputs": [
    {
     "name": "stdout",
     "output_type": "stream",
     "text": [
      "Train on 54000 samples, validate on 6000 samples\n",
      "Epoch 1/1\n",
      "54000/54000 [==============================] - 3s 61us/step - loss: 1.1726 - acc: 0.5508 - val_loss: 0.6161 - val_acc: 0.7682\n",
      "10000/10000 [==============================] - 0s 23us/step\n"
     ]
    },
    {
     "name": "stderr",
     "output_type": "stream",
     "text": [
      "C:\\Users\\akash\\Anaconda3\\lib\\site-packages\\matplotlib\\legend.py:641: UserWarning: Unrecognized location \"bottom right\". Falling back on \"best\"; valid locations are\n",
      "\tbest\n",
      "\tupper right\n",
      "\tupper left\n",
      "\tlower left\n",
      "\tlower right\n",
      "\tright\n",
      "\tcenter left\n",
      "\tcenter right\n",
      "\tlower center\n",
      "\tupper center\n",
      "\tcenter\n",
      "\n",
      "  % (loc, '\\n\\t'.join(self.codes)))\n"
     ]
    },
    {
     "data": {
      "image/png": "[encoded data removed]",
      "text/plain": [
       "<Figure size 432x288 with 1 Axes>"
      ]
     },
     "metadata": {},
     "output_type": "display_data"
    },
    {
     "data": {
      "image/png": "[encoded data removed]",
      "text/plain": [
       "<Figure size 432x288 with 1 Axes>"
      ]
     },
     "metadata": {},
     "output_type": "display_data"
    },
    {
     "name": "stdout",
     "output_type": "stream",
     "text": [
      "[0.64333003461360927, 0.75769999623298645]\n"
     ]
    }
   ],
   "source": [
    "#Building a multi-layer Neural Network with open-source neural-network library, Keras\n",
    "#Training the Model\n",
    "model = Sequential()\n",
    "\n",
    "model.add(Dense(128, activation='sigmoid', input_dim=784))\n",
    "model.add(Dropout(0.5))\n",
    "model.add(Dense(256, activation='relu'))\n",
    "model.add(Dropout(0.5))\n",
    "model.add(Dense(10, activation='softmax'))\n",
    "\n",
    "sgd = SGD(lr=0.1,decay=1e-6, momentum=0.9, nesterov=True)\n",
    "model.compile(loss='categorical_crossentropy',\n",
    "              optimizer=sgd,\n",
    "              metrics=['accuracy'])\n",
    "\n",
    "history=model.fit(images_train, y_encoded,epochs=100,validation_split=0.1,batch_size=500)\n",
    "score = model.evaluate(images_test,y_test_encoded, batch_size=500)\n",
    "plt.plot(history.history['acc'])\n",
    "plt.plot(history.history['val_acc'])\n",
    "plt.title('accuracy')\n",
    "plt.ylabel('Accuracy')\n",
    "plt.xlabel('Epoch')\n",
    "plt.legend(['Train', 'Validation'], loc='bottom right')\n",
    "plt.show()\n",
    "\n",
    "# Plot training & validation loss values\n",
    "plt.plot(history.history['loss'])\n",
    "plt.plot(history.history['val_loss'])\n",
    "plt.title('loss')\n",
    "plt.ylabel('Loss')\n",
    "plt.xlabel('Epoch')\n",
    "plt.legend(['Train', 'Validation'], loc='upper right')\n",
    "plt.show()\n",
    "print(score)\n"
   ]
  },
  {
   "cell_type": "code",
   "execution_count": 30,
   "metadata": {},
   "outputs": [
    {
     "data": {
      "text/plain": [
       "array([[789,   7,   6,  97,   7,   5,  67,   0,  22,   0],\n",
       "       [  5, 929,  13,  41,   8,   1,   2,   0,   1,   0],\n",
       "       [ 24,   1, 604,  11, 194,   2, 154,   0,  10,   0],\n",
       "       [ 57,  16,   2, 832,  19,   1,  67,   0,   6,   0],\n",
       "       [  0,   4, 223,  64, 622,   0,  78,   0,   9,   0],\n",
       "       [  0,   0,   0,   1,   0, 866,   0,  57,   7,  69],\n",
       "       [236,   3, 171,  67, 178,   2, 303,   0,  40,   0],\n",
       "       [  0,   0,   0,   0,   0, 111,   0, 763,   0, 126],\n",
       "       [  3,   2,   6,   9,   1,  19,  32,   4, 922,   2],\n",
       "       [  0,   0,   0,   0,   0,  21,   0,  31,   1, 947]], dtype=int64)"
      ]
     },
     "execution_count": 30,
     "metadata": {},
     "output_type": "execute_result"
    }
   ],
   "source": [
    "#Creating Confusion Matrix\n",
    "result = model.predict(images_test)\n",
    "result=max_probability(result)\n",
    "confusion_matrix(labels_test,result)"
   ]
  },
  {
   "cell_type": "code",
   "execution_count": 31,
   "metadata": {},
   "outputs": [],
   "source": [
    "#Reading Data For CNN\n",
    "images_train_cnn, labels_train_cnn = load_mnist('C:\\\\UB\\\\ML 574\\\\Python\\\\DataSets\\\\data\\\\fashion', kind='train')\n",
    "images_test_cnn, labels_test_cnn = load_mnist('C:\\\\UB\\\\ML 574\\\\Python\\\\DataSets\\\\data\\\\fashion', kind='t10k')"
   ]
  },
  {
   "cell_type": "code",
   "execution_count": 32,
   "metadata": {},
   "outputs": [],
   "source": [
    "#Preprocessing Testing data\n",
    "images_train_cnn = images_train_cnn.reshape(-1, 28,28, 1)\n",
    "images_train_cnn = images_train_cnn / 255\n",
    "\n",
    "#Preprocessing Testing data\n",
    "images_test_cnn = images_test_cnn.reshape(-1, 28,28, 1)\n",
    "images_test_cnn = images_test_cnn / 255\n",
    "y_encoded=np.zeros((labels_train_cnn.shape[0],10))\n",
    "for i in range(labels_train.shape[0]):\n",
    "    y_encoded[i,labels_train[i]]=1\n",
    "y_test_encoded=np.zeros((labels_test_cnn.shape[0],10))\n",
    "for i in range(labels_test.shape[0]):\n",
    "    y_test_encoded[i,labels_test[i]]=1"
   ]
  },
  {
   "cell_type": "code",
   "execution_count": 33,
   "metadata": {},
   "outputs": [],
   "source": [
    "    #Building a Convolution Neural Network with open-source neural-network library, Keras\n",
    "    #Training the Model\n",
    "    model_cnn= Sequential()\n",
    "\n",
    "    model_cnn.add(Conv2D(64, (3,3), input_shape=(28, 28, 1)))\n",
    "    model_cnn.add(Activation('relu'))\n",
    "    model_cnn.add(MaxPooling2D(pool_size=(2,2)))\n",
    "\n",
    "    model_cnn.add(Conv2D(64, (3,3)))\n",
    "    model_cnn.add(Activation('relu'))\n",
    "    model_cnn.add(MaxPooling2D(pool_size=(2,2)))\n",
    "\n",
    "    model_cnn.add(Flatten())\n",
    "    model_cnn.add(Dense(64))\n",
    "\n",
    "    model_cnn.add(Dense(10))\n",
    "    model_cnn.add(Activation('softmax'))"
   ]
  },
  {
   "cell_type": "code",
   "execution_count": null,
   "metadata": {},
   "outputs": [
    {
     "name": "stdout",
     "output_type": "stream",
     "text": [
      "Epoch 1/15\n",
      "58000/60000 [============================>.] - ETA: 2s - loss: 0.4198 - acc: 0.8521"
     ]
    }
   ],
   "source": [
    "#Training the Model and Calculating the Graph \n",
    "model_cnn.compile(optimizer='adam',loss='categorical_crossentropy',metrics=['accuracy'])\n",
    "history = model_cnn.fit(images_train_cnn, y_encoded,batch_size = 500 ,epochs=15)\n",
    "score = model_cnn.evaluate(images_test_cnn,y_test_encoded, batch_size=500)\n",
    "\n",
    "plt.plot(history.history['acc'])\n",
    "plt.title('accuracy')\n",
    "plt.ylabel('Accuracy')\n",
    "plt.xlabel('Epoch')\n",
    "plt.legend(['Train', 'Validation'], loc='bottom right')\n",
    "plt.show()\n",
    "\n",
    "# Plot training & validation loss values\n",
    "plt.plot(history.history['loss'])\n",
    "plt.title('loss')\n",
    "plt.ylabel('Loss')\n",
    "plt.xlabel('Epoch')\n",
    "plt.legend(['Train', 'Validation'], loc='upper right')\n",
    "plt.show()\n",
    "print(score)"
   ]
  },
  {
   "cell_type": "code",
   "execution_count": null,
   "metadata": {},
   "outputs": [],
   "source": [
    "#Creating Confusion Matrix\n",
    "result = model_cnn.predict(images_test_cnn)\n",
    "result=max_probability(result)\n",
    "confusion_matrix(labels_test_cnn,result)"
   ]
  },
  {
   "cell_type": "code",
   "execution_count": null,
   "metadata": {},
   "outputs": [],
   "source": []
  },
  {
   "cell_type": "code",
   "execution_count": null,
   "metadata": {},
   "outputs": [],
   "source": []
  }
 ],
 "metadata": {
  "kernelspec": {
   "display_name": "Python 3",
   "language": "python",
   "name": "python3"
  },
  "language_info": {
   "codemirror_mode": {
    "name": "ipython",
    "version": 3
   },
   "file_extension": ".py",
   "mimetype": "text/x-python",
   "name": "python",
   "nbconvert_exporter": "python",
   "pygments_lexer": "ipython3",
   "version": "3.6.5"
  }
 },
 "nbformat": 4,
 "nbformat_minor": 2
}
